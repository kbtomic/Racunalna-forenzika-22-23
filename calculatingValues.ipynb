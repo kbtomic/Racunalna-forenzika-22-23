{
 "cells": [
  {
   "cell_type": "code",
   "execution_count": 3,
   "metadata": {},
   "outputs": [],
   "source": [
    "import pandas as pd\n",
    "import numpy as np\n",
    "import csv\n",
    "from scipy.spatial.distance import cityblock\n",
    "from sklearn.metrics import roc_curve"
   ]
  },
  {
   "cell_type": "code",
   "execution_count": 7,
   "metadata": {},
   "outputs": [
    {
     "name": "stdout",
     "output_type": "stream",
     "text": [
      "     user  idOfWord  ascii         key keyEvent       Time\n",
      "0   klara         1     46  Oem_Period     Down  797830750\n",
      "1   klara         1    116           T     Down  797830843\n",
      "2   klara         1     46  Oem_Period       Up  797830859\n",
      "3   klara         1    116           T       Up  797830968\n",
      "4   klara         1    105           I     Down  797831031\n",
      "..    ...       ...    ...         ...      ...        ...\n",
      "67  klara         3    110           N       Up  797836703\n",
      "68  klara         3    108           L     Down  797836765\n",
      "69  klara         3    108           L       Up  797836890\n",
      "70  klara         3     13      Return     Down  797836937\n",
      "71  klara         3     13      Return       Up  797837062\n",
      "\n",
      "[72 rows x 6 columns]\n"
     ]
    },
    {
     "data": {
      "text/plain": [
       "72"
      ]
     },
     "execution_count": 7,
     "metadata": {},
     "output_type": "execute_result"
    }
   ],
   "source": [
    "data = pd.read_csv(\"myInputCsv.csv\")\n",
    "#print(data)\n",
    "\n",
    "\n",
    "data = data[data.key != 'R']\n",
    "print(data)\n",
    "\n",
    "df = pd.DataFrame(columns=['subject','idOfWord','key','H','UD','DD'])\n",
    "\n",
    "\n",
    "for i in range(0, len(data), 2):\n",
    "    finalData = {}\n",
    "\n",
    "\n",
    "    finalData['subject'] = data.iloc[i].user\n",
    "    finalData['key'] = data.iloc[i].key\n",
    "    finalData['H'] = (int(data.iloc[i+1].Time) - int(data.iloc[i].Time))/1000\n",
    "    finalData['idOfWord'] = data.iloc[i].idOfWord\n",
    "    \n",
    "    if(data.iloc[i].key != \"Return\"):\n",
    "        finalData['UD'] = (int(data.iloc[i+2].Time) - int(data.iloc[i+1].Time))/1000\n",
    "        finalData['DD'] = (int(data.iloc[i+2].Time) - int(data.iloc[i].Time))/1000\n",
    "    \n",
    "    df = pd.concat([df, pd.DataFrame(finalData, index=[0])], ignore_index=True)\n",
    "\n",
    "    \n",
    "\n",
    "\n",
    "f = open(\"KeyStrokeDistance.csv\", 'w',newline='\\n')\n",
    "writer = csv.writer(f)\n",
    "writer.writerow(['subject','idOfWord', 'key','H','UD','DD'])\n",
    "for row in df.iterrows():\n",
    "    #print(row[1])\n",
    "    writer.writerow(row[1])\n",
    "\n",
    "f.close()\n",
    "\n",
    "#print(df)\n",
    "\n",
    "        \n",
    "\n"
   ]
  },
  {
   "cell_type": "code",
   "execution_count": 5,
   "metadata": {},
   "outputs": [
    {
     "name": "stdout",
     "output_type": "stream",
     "text": [
      "  subject sessionIndex rep  H.period  DD.period.t  UD.period.t    H.t  DD.t.i  \\\n",
      "0   klara           10   1     0.093        0.109        0.016  0.109   0.172   \n",
      "1   klara           10   2     0.140        0.203        0.063  0.125   0.156   \n",
      "2   klara           10   3     0.156        0.203        0.047  0.093   0.125   \n",
      "\n",
      "   UD.t.i    H.i  ...    H.a  DD.a.n  UD.a.n    H.n  DD.n.l  UD.n.l    H.l  \\\n",
      "0   0.063  0.094  ...  0.078   0.109   0.031  0.063   0.109   0.046  0.125   \n",
      "1   0.031  0.078  ...  0.078   0.125   0.047  0.047   0.078   0.031  0.109   \n",
      "2   0.032  0.047  ...  0.094   0.141   0.047  0.047   0.109   0.062  0.125   \n",
      "\n",
      "   DD.l.Return  UD.l.Return  H.Return  \n",
      "0        0.266        0.141     0.125  \n",
      "1        0.125        0.016     0.141  \n",
      "2        0.172        0.047     0.125  \n",
      "\n",
      "[3 rows x 34 columns]\n"
     ]
    }
   ],
   "source": [
    "data = pd.read_csv(\"keystroke.csv\")\n",
    "\n",
    "df = pd.DataFrame(columns=['subject','sessionIndex','rep','H.period','DD.period.t','UD.period.t','H.t', 'DD.t.i', 'UD.t.i', 'H.i','DD.i.e','UD.i.e','H.e','DD.e.five', 'UD.e.five', 'H.five', 'DD.five.Shift.r', 'UD.five.Shift.r', 'H.Shift.r', 'DD.Shift.r.o', 'UD.Shift.r.o' , 'H.o', 'DD.o.a', 'UD.o.a', 'H.a', 'DD.a.n', 'UD.a.n', 'H.n', 'DD.n.l', 'UD.n.l', 'H.l', 'DD.l.Return', 'UD.l.Return', 'H.Return'])\n",
    "# get the last row\n",
    "lastRow = data.iloc[-1]\n",
    "nextSessionIndex = lastRow['sessionIndex'] + 1\n",
    "\n",
    "data = pd.read_csv(\"KeystrokeDistance.csv\")\n",
    "lastRow = data.iloc[-1]\n",
    "numberOfWords = lastRow['idOfWord']\n",
    "\n",
    "for i in range(0, numberOfWords):\n",
    "    finalData = {}\n",
    "    finalData['subject'] = data.iloc[0+11*i].subject\n",
    "    finalData['sessionIndex'] = nextSessionIndex\n",
    "    finalData['rep'] = data.iloc[0+11*i].idOfWord\n",
    "\n",
    "    finalData['H.period'] = data.iloc[0 + 11*i].H\n",
    "    finalData['DD.period.t'] = data.iloc[0 + 11*i].DD\n",
    "    finalData['UD.period.t'] = data.iloc[0 + 11*i].UD\n",
    "    finalData['H.t'] = data.iloc[1 + 11*i].H\n",
    "    finalData['DD.t.i'] = data.iloc[1 + 11*i].DD\n",
    "    finalData['UD.t.i'] = data.iloc[1 + 11*i].UD\n",
    "    finalData['H.i'] = data.iloc[2 + 11*i].H\n",
    "    finalData['DD.i.e'] = data.iloc[2 + 11*i].DD\n",
    "    finalData['UD.i.e'] = data.iloc[2 + 11*i].UD\n",
    "    finalData['H.e'] = data.iloc[3 + 11*i].H\n",
    "    finalData['DD.e.five'] = data.iloc[3 + 11*i].DD\n",
    "    finalData['UD.e.five'] = data.iloc[3 + 11*i].UD\n",
    "    finalData['H.five'] = data.iloc[4 + 11*i].H\n",
    "    finalData['DD.five.Shift.r'] = data.iloc[4 + 11*i].DD\n",
    "    finalData['UD.five.Shift.r'] = data.iloc[4 + 11*i].UD\n",
    "    finalData['H.Shift.r'] = data.iloc[5 + 11*i].H\n",
    "    finalData['DD.Shift.r.o'] =    data.iloc[5 + 11*i].DD\n",
    "    finalData['UD.Shift.r.o'] = data.iloc[5 + 11*i].UD\n",
    "    finalData['H.o'] = data.iloc[6 + 11*i].H\n",
    "    finalData['DD.o.a'] = data.iloc[6 + 11*i].DD\n",
    "    finalData['UD.o.a'] = data.iloc[6 + 11*i].UD\n",
    "    finalData['H.a'] = data.iloc[7 + 11*i].H\n",
    "    finalData['DD.a.n'] = data.iloc[7 + 11*i].DD\n",
    "    finalData['UD.a.n'] = data.iloc[7 + 11*i].UD\n",
    "    finalData['H.n'] = data.iloc[8 + 11*i].H\n",
    "    finalData['DD.n.l'] = data.iloc[8 + 11*i].DD\n",
    "    finalData['UD.n.l'] =   data.iloc[8 + 11*i].UD\n",
    "    finalData['H.l'] = data.iloc[9 + 11*i].H\n",
    "    finalData['DD.l.Return'] = data.iloc[9 + 11*i].DD\n",
    "    finalData['UD.l.Return'] = data.iloc[9 + 11*i].UD\n",
    "    finalData['H.Return'] = data.iloc[10 + 11*i].H\n",
    "    df = pd.concat([df, pd.DataFrame(finalData, index=[0])], ignore_index=True)\n",
    "\n",
    "\n",
    "f = open(\"keystroke.csv\", 'a',newline='\\n')\n",
    "writer = csv.writer(f)\n",
    "for row in df.iterrows():\n",
    "    #print(row[1])\n",
    "    writer.writerow(row[1])\n",
    "\n",
    "f.close()\n",
    "print(df)\n"
   ]
  }
 ],
 "metadata": {
  "kernelspec": {
   "display_name": "env",
   "language": "python",
   "name": "python3"
  },
  "language_info": {
   "codemirror_mode": {
    "name": "ipython",
    "version": 3
   },
   "file_extension": ".py",
   "mimetype": "text/x-python",
   "name": "python",
   "nbconvert_exporter": "python",
   "pygments_lexer": "ipython3",
   "version": "3.7.0"
  },
  "orig_nbformat": 4
 },
 "nbformat": 4,
 "nbformat_minor": 2
}
