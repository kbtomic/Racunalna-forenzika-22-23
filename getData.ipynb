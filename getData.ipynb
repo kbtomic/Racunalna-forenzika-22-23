{
 "cells": [
  {
   "cell_type": "code",
   "execution_count": 36,
   "metadata": {},
   "outputs": [],
   "source": [
    "import pyWinhook as pyHook\n",
    "import pythoncom\n",
    "import pandas as pd\n",
    "import numpy as np\n",
    "import csv\n",
    "import PySimpleGUI as sg"
   ]
  },
  {
   "cell_type": "code",
   "execution_count": 37,
   "metadata": {},
   "outputs": [],
   "source": [
    "# make a dataframe\n",
    "df = pd.DataFrame(columns=['Key', 'Ascii', 'Time'])\n",
    "userFilePath = 'myInputCsv.csv'"
   ]
  },
  {
   "cell_type": "code",
   "execution_count": 38,
   "metadata": {},
   "outputs": [],
   "source": [
    "\n",
    "class KeyLogger:\n",
    "    def __init__(self):\n",
    "        self.enterPressed = False\n",
    "        self.eventList = []\n",
    "        self.isCaps = False\n",
    "        self.userName = getUserName()\n",
    "        self.idOfSession = 1\n",
    "        #self.message = \"\"\n",
    "\n",
    "    def keyDownEvent(self, event):\n",
    "        if event.KeyID == 20 and self.isCaps == False:\n",
    "            self.isCaps = True\n",
    "        elif event.KeyID == 20 and self.isCaps == True:\n",
    "            self.isCaps = False     \n",
    "        if event.Ascii == 13:  # Check if Enter key is pressed\n",
    "            self.enterPressed = True\n",
    "            self.idOfSession += 1\n",
    "            self.userRecordData()\n",
    "        else:\n",
    "            if event.KeyID >= 48 and event.KeyID <= 57:\n",
    "                event.Ascii = event.KeyID\n",
    "            if self.isCaps == True and event.Ascii >= 97 and event.Ascii <= 122:\n",
    "                event.Ascii = event.KeyID\n",
    "\n",
    "            self.storeEvent(\"Down\", event)\n",
    "\n",
    "        return True\n",
    "    \n",
    "    def mainLoop(self):\n",
    "        while not self.enterPressed:\n",
    "            pythoncom.PumpWaitingMessages()\n",
    "\n",
    "            \n",
    "    def keyUpEvent(self, event):\n",
    "        if event.KeyID>= 48 and event.KeyID<=57:\n",
    "            event.Ascii = event.KeyID\n",
    "        if self.isCaps == True and event.Ascii>=97 and event.Ascii<=122:\n",
    "            event.Ascii = event.KeyID\n",
    "        print(chr(event.Ascii),end='')\n",
    "        self.storeEvent(\"Up\", event)\n",
    "        return True\n",
    "\n",
    "\n",
    "    def storeEvent(self, activity, event):\n",
    "        keystrokeTime = int(event.Time)\n",
    "        self.eventList.append ((self.userName, self.idOfSession, event.Ascii, event.Key, activity, int(keystrokeTime)))\n",
    "\n",
    "        # Chosen to use Escape key (ESC) due to input using a similar method\n",
    "        # Enter Key - KeyCode: 13 Ascii: 13 ScanCode: 28 - ESC = 27 @ Ascii\n",
    "        # Activity condition had to be added because the userRecordData function was being called twice because of the keyUpEvent and keyDownEvent\n",
    "        # if event.Ascii == 13 and activity == \"Down\": \n",
    "        #     self.enterPressed = True\n",
    "        #     print(\"Enter Pressed\")\n",
    "        #     userRecordData(self.eventList)\n",
    "\n",
    "def userRecordData(eventList):\n",
    "    print(\"\\nOutput:\")\n",
    "    print(eventList)\n",
    "    header = [\"user\", \"idOfSession\", \"key\", \"keyEvent\", \"Time\"]  # Header list\n",
    "    with open(userFilePath,'a',newline='\\n') as f:\n",
    "        writer = csv.writer(f)\n",
    "        writer.writerow(header)\n",
    "        writer.writerows(eventList)\n",
    "    f.close()\n",
    "\n",
    "\n",
    "#Not needed currently\n",
    "def getKeyStroke():\n",
    "    \n",
    "    keyLogger = KeyLogger()\n",
    "    hookManager = pyHook.HookManager()\n",
    "    hookManager.KeyDown = keyLogger.keyDownEvent\n",
    "    hookManager.KeyUp = keyLogger.keyUpEvent\n",
    "    hookManager.HookKeyboard()\n",
    "\n",
    "    keyLogger.mainLoop()\n",
    "    # Unhooks the keyboard, no more data recorded, returns to menu\n",
    "    hookManager.UnhookKeyboard()\n",
    "\n",
    "\n",
    "def getUserName():\n",
    "        userName = input(\"Enter your name: \")\n",
    "        return userName\n"
   ]
  },
  {
   "cell_type": "code",
   "execution_count": 39,
   "metadata": {},
   "outputs": [
    {
     "name": "stdout",
     "output_type": "stream",
     "text": [
      ".tie5R\u0000oanl"
     ]
    },
    {
     "ename": "AttributeError",
     "evalue": "'KeyLogger' object has no attribute 'userRecordData'",
     "output_type": "error",
     "traceback": [
      "\u001b[1;31m---------------------------------------------------------------------------\u001b[0m",
      "\u001b[1;31mAttributeError\u001b[0m                            Traceback (most recent call last)",
      "\u001b[1;32mc:\\Users\\Korisnik\\Desktop\\Racunalna-forenzika-22-23\\env\\lib\\site-packages\\pyWinhook\\HookManager.py\u001b[0m in \u001b[0;36mKeyboardSwitch\u001b[1;34m(self, msg, vk_code, scan_code, ascii, flags, time, hwnd, win_name)\u001b[0m\n\u001b[0;32m    349\u001b[0m     \u001b[0mfunc\u001b[0m \u001b[1;33m=\u001b[0m \u001b[0mself\u001b[0m\u001b[1;33m.\u001b[0m\u001b[0mkeyboard_funcs\u001b[0m\u001b[1;33m.\u001b[0m\u001b[0mget\u001b[0m\u001b[1;33m(\u001b[0m\u001b[0mmsg\u001b[0m\u001b[1;33m)\u001b[0m\u001b[1;33m\u001b[0m\u001b[0m\n\u001b[0;32m    350\u001b[0m     \u001b[1;32mif\u001b[0m \u001b[0mfunc\u001b[0m\u001b[1;33m:\u001b[0m\u001b[1;33m\u001b[0m\u001b[0m\n\u001b[1;32m--> 351\u001b[1;33m       \u001b[1;32mreturn\u001b[0m \u001b[0mfunc\u001b[0m\u001b[1;33m(\u001b[0m\u001b[0mevent\u001b[0m\u001b[1;33m)\u001b[0m\u001b[1;33m\u001b[0m\u001b[0m\n\u001b[0m\u001b[0;32m    352\u001b[0m     \u001b[1;32melse\u001b[0m\u001b[1;33m:\u001b[0m\u001b[1;33m\u001b[0m\u001b[0m\n\u001b[0;32m    353\u001b[0m       \u001b[1;32mreturn\u001b[0m \u001b[1;32mTrue\u001b[0m\u001b[1;33m\u001b[0m\u001b[0m\n",
      "\u001b[1;32m~\\AppData\\Local\\Temp\\ipykernel_17788\\3214365115.py\u001b[0m in \u001b[0;36mkeyDownEvent\u001b[1;34m(self, event)\u001b[0m\n\u001b[0;32m     16\u001b[0m             \u001b[0mself\u001b[0m\u001b[1;33m.\u001b[0m\u001b[0menterPressed\u001b[0m \u001b[1;33m=\u001b[0m \u001b[1;32mTrue\u001b[0m\u001b[1;33m\u001b[0m\u001b[0m\n\u001b[0;32m     17\u001b[0m             \u001b[0mself\u001b[0m\u001b[1;33m.\u001b[0m\u001b[0midOfSession\u001b[0m \u001b[1;33m+=\u001b[0m \u001b[1;36m1\u001b[0m\u001b[1;33m\u001b[0m\u001b[0m\n\u001b[1;32m---> 18\u001b[1;33m             \u001b[0mself\u001b[0m\u001b[1;33m.\u001b[0m\u001b[0muserRecordData\u001b[0m\u001b[1;33m(\u001b[0m\u001b[1;33m)\u001b[0m\u001b[1;33m\u001b[0m\u001b[0m\n\u001b[0m\u001b[0;32m     19\u001b[0m         \u001b[1;32melse\u001b[0m\u001b[1;33m:\u001b[0m\u001b[1;33m\u001b[0m\u001b[0m\n\u001b[0;32m     20\u001b[0m             \u001b[1;32mif\u001b[0m \u001b[0mevent\u001b[0m\u001b[1;33m.\u001b[0m\u001b[0mKeyID\u001b[0m \u001b[1;33m>=\u001b[0m \u001b[1;36m48\u001b[0m \u001b[1;32mand\u001b[0m \u001b[0mevent\u001b[0m\u001b[1;33m.\u001b[0m\u001b[0mKeyID\u001b[0m \u001b[1;33m<=\u001b[0m \u001b[1;36m57\u001b[0m\u001b[1;33m:\u001b[0m\u001b[1;33m\u001b[0m\u001b[0m\n",
      "\u001b[1;31mAttributeError\u001b[0m: 'KeyLogger' object has no attribute 'userRecordData'"
     ]
    },
    {
     "name": "stdout",
     "output_type": "stream",
     "text": [
      "{'Input1': '.tie5Roanl'}\n",
      ".tie5R\u0000oanl"
     ]
    },
    {
     "ename": "AttributeError",
     "evalue": "'KeyLogger' object has no attribute 'userRecordData'",
     "output_type": "error",
     "traceback": [
      "\u001b[1;31m---------------------------------------------------------------------------\u001b[0m",
      "\u001b[1;31mAttributeError\u001b[0m                            Traceback (most recent call last)",
      "\u001b[1;32mc:\\Users\\Korisnik\\Desktop\\Racunalna-forenzika-22-23\\env\\lib\\site-packages\\pyWinhook\\HookManager.py\u001b[0m in \u001b[0;36mKeyboardSwitch\u001b[1;34m(self, msg, vk_code, scan_code, ascii, flags, time, hwnd, win_name)\u001b[0m\n\u001b[0;32m    349\u001b[0m     \u001b[0mfunc\u001b[0m \u001b[1;33m=\u001b[0m \u001b[0mself\u001b[0m\u001b[1;33m.\u001b[0m\u001b[0mkeyboard_funcs\u001b[0m\u001b[1;33m.\u001b[0m\u001b[0mget\u001b[0m\u001b[1;33m(\u001b[0m\u001b[0mmsg\u001b[0m\u001b[1;33m)\u001b[0m\u001b[1;33m\u001b[0m\u001b[0m\n\u001b[0;32m    350\u001b[0m     \u001b[1;32mif\u001b[0m \u001b[0mfunc\u001b[0m\u001b[1;33m:\u001b[0m\u001b[1;33m\u001b[0m\u001b[0m\n\u001b[1;32m--> 351\u001b[1;33m       \u001b[1;32mreturn\u001b[0m \u001b[0mfunc\u001b[0m\u001b[1;33m(\u001b[0m\u001b[0mevent\u001b[0m\u001b[1;33m)\u001b[0m\u001b[1;33m\u001b[0m\u001b[0m\n\u001b[0m\u001b[0;32m    352\u001b[0m     \u001b[1;32melse\u001b[0m\u001b[1;33m:\u001b[0m\u001b[1;33m\u001b[0m\u001b[0m\n\u001b[0;32m    353\u001b[0m       \u001b[1;32mreturn\u001b[0m \u001b[1;32mTrue\u001b[0m\u001b[1;33m\u001b[0m\u001b[0m\n",
      "\u001b[1;32m~\\AppData\\Local\\Temp\\ipykernel_17788\\3214365115.py\u001b[0m in \u001b[0;36mkeyDownEvent\u001b[1;34m(self, event)\u001b[0m\n\u001b[0;32m     16\u001b[0m             \u001b[0mself\u001b[0m\u001b[1;33m.\u001b[0m\u001b[0menterPressed\u001b[0m \u001b[1;33m=\u001b[0m \u001b[1;32mTrue\u001b[0m\u001b[1;33m\u001b[0m\u001b[0m\n\u001b[0;32m     17\u001b[0m             \u001b[0mself\u001b[0m\u001b[1;33m.\u001b[0m\u001b[0midOfSession\u001b[0m \u001b[1;33m+=\u001b[0m \u001b[1;36m1\u001b[0m\u001b[1;33m\u001b[0m\u001b[0m\n\u001b[1;32m---> 18\u001b[1;33m             \u001b[0mself\u001b[0m\u001b[1;33m.\u001b[0m\u001b[0muserRecordData\u001b[0m\u001b[1;33m(\u001b[0m\u001b[1;33m)\u001b[0m\u001b[1;33m\u001b[0m\u001b[0m\n\u001b[0m\u001b[0;32m     19\u001b[0m         \u001b[1;32melse\u001b[0m\u001b[1;33m:\u001b[0m\u001b[1;33m\u001b[0m\u001b[0m\n\u001b[0;32m     20\u001b[0m             \u001b[1;32mif\u001b[0m \u001b[0mevent\u001b[0m\u001b[1;33m.\u001b[0m\u001b[0mKeyID\u001b[0m \u001b[1;33m>=\u001b[0m \u001b[1;36m48\u001b[0m \u001b[1;32mand\u001b[0m \u001b[0mevent\u001b[0m\u001b[1;33m.\u001b[0m\u001b[0mKeyID\u001b[0m \u001b[1;33m<=\u001b[0m \u001b[1;36m57\u001b[0m\u001b[1;33m:\u001b[0m\u001b[1;33m\u001b[0m\u001b[0m\n",
      "\u001b[1;31mAttributeError\u001b[0m: 'KeyLogger' object has no attribute 'userRecordData'"
     ]
    },
    {
     "name": "stdout",
     "output_type": "stream",
     "text": [
      "{'Input1': '.tie5Roanl'}\n",
      "\n",
      "Output:\n",
      "[('kbt', 1, 13, 'Return', 'Up', 715752109), ('kbt', 1, 46, 'Oem_Period', 'Down', 715754640), ('kbt', 1, 46, 'Oem_Period', 'Up', 715754750), ('kbt', 1, 116, 'T', 'Down', 715754796), ('kbt', 1, 116, 'T', 'Up', 715754921), ('kbt', 1, 105, 'I', 'Down', 715754937), ('kbt', 1, 101, 'E', 'Down', 715755015), ('kbt', 1, 105, 'I', 'Up', 715755015), ('kbt', 1, 101, 'E', 'Up', 715755156), ('kbt', 1, 53, '5', 'Down', 715755406), ('kbt', 1, 53, '5', 'Up', 715755500), ('kbt', 1, 0, 'Lshift', 'Down', 715755796), ('kbt', 1, 82, 'R', 'Down', 715755937), ('kbt', 1, 82, 'R', 'Up', 715756062), ('kbt', 1, 0, 'Lshift', 'Up', 715756093), ('kbt', 1, 111, 'O', 'Down', 715756187), ('kbt', 1, 97, 'A', 'Down', 715756312), ('kbt', 1, 111, 'O', 'Up', 715756328), ('kbt', 1, 110, 'N', 'Down', 715756390), ('kbt', 1, 97, 'A', 'Up', 715756406), ('kbt', 1, 110, 'N', 'Up', 715756500), ('kbt', 1, 108, 'L', 'Down', 715756640), ('kbt', 1, 108, 'L', 'Up', 715756765), ('kbt', 2, 13, 'Return', 'Up', 715757031), ('kbt', 2, 46, 'Oem_Period', 'Down', 715757265), ('kbt', 2, 46, 'Oem_Period', 'Up', 715757390), ('kbt', 2, 116, 'T', 'Down', 715757578), ('kbt', 2, 105, 'I', 'Down', 715757687), ('kbt', 2, 116, 'T', 'Up', 715757718), ('kbt', 2, 101, 'E', 'Down', 715757781), ('kbt', 2, 105, 'I', 'Up', 715757796), ('kbt', 2, 101, 'E', 'Up', 715757937), ('kbt', 2, 52, '4', 'Down', 715758125), ('kbt', 2, 52, '4', 'Up', 715758250), ('kbt', 2, 8, 'Back', 'Down', 715758609), ('kbt', 2, 8, 'Back', 'Up', 715758765), ('kbt', 2, 53, '5', 'Down', 715758765), ('kbt', 2, 53, '5', 'Up', 715758937), ('kbt', 2, 0, 'Lshift', 'Down', 715759187), ('kbt', 2, 82, 'R', 'Down', 715759359), ('kbt', 2, 82, 'R', 'Up', 715759468), ('kbt', 2, 0, 'Lshift', 'Up', 715759500), ('kbt', 2, 111, 'O', 'Down', 715759546), ('kbt', 2, 97, 'A', 'Down', 715759687), ('kbt', 2, 111, 'O', 'Up', 715759687), ('kbt', 2, 110, 'N', 'Down', 715759828), ('kbt', 2, 97, 'A', 'Up', 715759828), ('kbt', 2, 110, 'N', 'Up', 715759937), ('kbt', 2, 108, 'L', 'Down', 715760015), ('kbt', 2, 108, 'L', 'Up', 715760109), ('kbt', 3, 13, 'Return', 'Up', 715760406)]\n"
     ]
    }
   ],
   "source": [
    "sg.theme('DarkAmber')   # Add a touch of color\n",
    "\n",
    "#TODO: 1) Make it so when the username is entered the Up event of the enter key is not recorded\n",
    "\n",
    "# Create the keylogger and hook it to the keyboard\n",
    "keyLogger = KeyLogger()\n",
    "hookManager = pyHook.HookManager()\n",
    "hookManager.KeyDown = keyLogger.keyDownEvent\n",
    "hookManager.KeyUp = keyLogger.keyUpEvent\n",
    "hookManager.HookKeyboard()\n",
    "\n",
    "# All the stuff inside your window.\n",
    "layout = [  [sg.Text('Collecting KeyStroke Data for User: ' + keyLogger.userName)],\n",
    "            [sg.Text('Enter password (.tie5Roanl)'), sg.InputText( key='Input1')],\n",
    "            [sg.Button('Ok'), sg.Button('Cancel'), sg.Push(), sg.Button('Make csv')] ]\n",
    "\n",
    "# Create the Window\n",
    "window = sg.Window('Window Title', layout, finalize=True)\n",
    "\n",
    "# Bind the Enter key to the input field -> Used to clear the input field when enter is pressed\n",
    "# For this to work, when creating the window, finalize must be set to True\n",
    "window['Input1'].bind('<Return>', '_Enter')\n",
    "\n",
    "# Event Loop to process \"events\" and get the \"values\" of the inputs\n",
    "while True:\n",
    "    event, values = window.read()\n",
    "    if event == sg.WIN_CLOSED or event == 'Cancel': # if user closes window or clicks cancel\n",
    "        break\n",
    "    elif event == 'Input1' + '_Enter':\n",
    "        window['Input1'].update('')\n",
    "    elif event == 'Make csv': # This implementation prevents the same data from being recorded twice\n",
    "        userRecordData(keyLogger.eventList)\n",
    "        break\n",
    "    \n",
    "    #keyLogger.mainLoop()\n",
    "    pythoncom.PumpWaitingMessages() # This is needed for the keylogger to work, and works without the mainLoop function\n",
    "\n",
    "    #print('You entered ', values[0])\n",
    "    print(values)\n",
    "\n",
    "# Unhooks the keyboard, no more data recorded, returns to menu\n",
    "hookManager.UnhookKeyboard()\n",
    "window.close()"
   ]
  },
  {
   "attachments": {},
   "cell_type": "markdown",
   "metadata": {},
   "source": [
    "TASKS\n",
    "1. Sučelje za prikupit inpute\n",
    "    a. Osim svojstva pojedine akcije treba spremit i # repeticije riječi -> ne uzimat input za shift\n",
    "    b. Spremit podatke u neki csv\n",
    "2. Iz prikupljenih podataka izračunat H, DD, UD,...\n",
    "3. Iz promjenjenih podataka napravit konačni  csv\n",
    "    a. Gleda se ukupni input za jednu riječ/lozinku\n",
    "3. Podijelit konačni csv na brojke i odvojenu u drugi csv koja osoba je to tipkala\n",
    "4. Podijelit na test i train\n",
    "5. Istrenirat mrežu\n",
    "6. Sučelje za test\n",
    "    a. Upišeš svoj username\n",
    "    b. Nakon upisa šifre, izbacuje da li si ti ta osoba ili ne"
   ]
  }
 ],
 "metadata": {
  "kernelspec": {
   "display_name": "Python 3",
   "language": "python",
   "name": "python3"
  },
  "language_info": {
   "codemirror_mode": {
    "name": "ipython",
    "version": 3
   },
   "file_extension": ".py",
   "mimetype": "text/x-python",
   "name": "python",
   "nbconvert_exporter": "python",
   "pygments_lexer": "ipython3",
   "version": "3.7.0"
  },
  "orig_nbformat": 4
 },
 "nbformat": 4,
 "nbformat_minor": 2
}
