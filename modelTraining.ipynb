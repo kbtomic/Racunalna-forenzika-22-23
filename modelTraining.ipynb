{
 "cells": [
  {
   "cell_type": "code",
   "execution_count": 2,
   "metadata": {},
   "outputs": [],
   "source": [
    "import pandas as pd\n",
    "from sklearn.model_selection import train_test_split"
   ]
  },
  {
   "cell_type": "code",
   "execution_count": 3,
   "metadata": {},
   "outputs": [],
   "source": [
    "data = pd.read_csv('keystroke.csv')\n",
    "\n",
    "X = data.iloc[:, 3:]\n",
    "y = data['subject']\n",
    "\n",
    "# divide data into training and test sets\n",
    "X_train, X_test, y_train, y_test = train_test_split(X, y, test_size=0.2, random_state=42)"
   ]
  },
  {
   "cell_type": "code",
   "execution_count": 7,
   "metadata": {},
   "outputs": [
    {
     "name": "stdout",
     "output_type": "stream",
     "text": [
      "Test accuracy: 0.9338559529642332\n"
     ]
    }
   ],
   "source": [
    "from sklearn.ensemble import RandomForestClassifier\n",
    "\n",
    "# Create a Random Forest model\n",
    "randomForestModel = RandomForestClassifier()\n",
    "\n",
    "# Train the model\n",
    "randomForestModel.fit(X_train, y_train)\n",
    "\n",
    "# Evaluate the model on the test set\n",
    "accuracy = randomForestModel.score(X_test, y_test)\n",
    "print('Test accuracy:', accuracy)"
   ]
  },
  {
   "cell_type": "code",
   "execution_count": 6,
   "metadata": {},
   "outputs": [],
   "source": [
    "#accuracy of 0.72\n",
    "# from sklearn.linear_model import LogisticRegression\n",
    "\n",
    "# # Create a Logistic Regression model\n",
    "# model = LogisticRegression(max_iter=2000)\n",
    "\n",
    "# # Train the model\n",
    "# model.fit(X_train, y_train)\n",
    "\n",
    "# # Evaluate the model on the test set\n",
    "# accuracy = model.score(X_test, y_test)\n",
    "# print('Test accuracy:', accuracy)\n"
   ]
  },
  {
   "cell_type": "code",
   "execution_count": 16,
   "metadata": {},
   "outputs": [
    {
     "name": "stdout",
     "output_type": "stream",
     "text": [
      "Test accuracy: 0.8407643312101911\n"
     ]
    },
    {
     "name": "stderr",
     "output_type": "stream",
     "text": [
      "c:\\Users\\Korisnik\\Desktop\\Racunalna-forenzika-22-23\\env\\lib\\site-packages\\sklearn\\linear_model\\_sag.py:354: ConvergenceWarning: The max_iter was reached which means the coef_ did not converge\n",
      "  ConvergenceWarning,\n"
     ]
    }
   ],
   "source": [
    "#accuracy of 0.84\n",
    "# from sklearn.preprocessing import StandardScaler\n",
    "\n",
    "# # Scale the input features\n",
    "# scaler = StandardScaler()\n",
    "# X_train_scaled = scaler.fit_transform(X_train)\n",
    "# X_test_scaled = scaler.transform(X_test)\n",
    "\n",
    "# # Create a Logistic Regression model and train it on the scaled data\n",
    "# model = LogisticRegression(solver='sag', max_iter=5000)\n",
    "# model.fit(X_train_scaled, y_train)\n",
    "\n",
    "# # Evaluate the model on the scaled test set\n",
    "# accuracy = model.score(X_test_scaled, y_test)\n",
    "# print('Test accuracy:', accuracy)\n"
   ]
  },
  {
   "cell_type": "code",
   "execution_count": 12,
   "metadata": {},
   "outputs": [
    {
     "name": "stdout",
     "output_type": "stream",
     "text": [
      "Test accuracy: 0.7199902008819207\n"
     ]
    }
   ],
   "source": [
    "#accuracy of 0.72\n",
    "# from sklearn.tree import DecisionTreeClassifier\n",
    "\n",
    "# # Create a Decision Tree model\n",
    "# model = DecisionTreeClassifier()\n",
    "\n",
    "# # Train the model\n",
    "# model.fit(X_train, y_train)\n",
    "\n",
    "# # Evaluate the model on the test set\n",
    "# accuracy = model.score(X_test, y_test)\n",
    "# print('Test accuracy:', accuracy)\n"
   ]
  },
  {
   "cell_type": "code",
   "execution_count": 14,
   "metadata": {},
   "outputs": [
    {
     "name": "stdout",
     "output_type": "stream",
     "text": [
      "Test accuracy: 0.7893189612934836\n"
     ]
    }
   ],
   "source": [
    "#accuracy of 0.79\n",
    "# from sklearn.svm import SVC\n",
    "\n",
    "# # Create an SVM model\n",
    "# model = SVC()\n",
    "\n",
    "# # Train the model\n",
    "# model.fit(X_train, y_train)\n",
    "\n",
    "# # Evaluate the model on the test set\n",
    "# accuracy = model.score(X_test, y_test)\n",
    "# print('Test accuracy:', accuracy)\n"
   ]
  },
  {
   "cell_type": "code",
   "execution_count": 4,
   "metadata": {},
   "outputs": [
    {
     "name": "stdout",
     "output_type": "stream",
     "text": [
      "Test accuracy: 0.7410583047525723\n"
     ]
    }
   ],
   "source": [
    "#accuracy of 0.74\n",
    "# from sklearn.neighbors import KNeighborsClassifier\n",
    "\n",
    "# # Create a KNN model\n",
    "# model = KNeighborsClassifier()\n",
    "\n",
    "# # Train the model\n",
    "# model.fit(X_train, y_train)\n",
    "\n",
    "# # Evaluate the model on the test set\n",
    "# accuracy = model.score(X_test, y_test)\n",
    "# print('Test accuracy:', accuracy)"
   ]
  }
 ],
 "metadata": {
  "kernelspec": {
   "display_name": "env",
   "language": "python",
   "name": "python3"
  },
  "language_info": {
   "codemirror_mode": {
    "name": "ipython",
    "version": 3
   },
   "file_extension": ".py",
   "mimetype": "text/x-python",
   "name": "python",
   "nbconvert_exporter": "python",
   "pygments_lexer": "ipython3",
   "version": "3.7.0"
  },
  "orig_nbformat": 4
 },
 "nbformat": 4,
 "nbformat_minor": 2
}
