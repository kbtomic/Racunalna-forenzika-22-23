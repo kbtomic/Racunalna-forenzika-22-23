{
 "cells": [
  {
   "cell_type": "code",
   "execution_count": 1,
   "metadata": {},
   "outputs": [],
   "source": [
    "import pandas as pd\n",
    "from sklearn.model_selection import train_test_split\n",
    "from sklearn.ensemble import RandomForestClassifier\n",
    "import PySimpleGUI as sg\n",
    "import pyWinhook as pyHook\n",
    "import pythoncom\n",
    "import matplotlib.pyplot as plt\n"
   ]
  },
  {
   "cell_type": "code",
   "execution_count": 2,
   "metadata": {},
   "outputs": [],
   "source": [
    "data = pd.read_csv('keystroke.csv')\n",
    "\n",
    "X = data.iloc[:, 3:]\n",
    "y = data['subject']\n",
    "\n",
    "# divide data into training and test sets\n",
    "X_train, X_test, y_train, y_test = train_test_split(X, y, test_size=0.2, random_state=42)"
   ]
  },
  {
   "cell_type": "code",
   "execution_count": 3,
   "metadata": {},
   "outputs": [
    {
     "name": "stdout",
     "output_type": "stream",
     "text": [
      "Test accuracy: 0.9288334556126192\n"
     ]
    }
   ],
   "source": [
    "# Create a Random Forest model\n",
    "randomForestModel = RandomForestClassifier()\n",
    "\n",
    "# Train the model\n",
    "randomForestModel.fit(X_train, y_train)\n",
    "\n",
    "# Evaluate the model on the test set\n",
    "random_forest_accuracy = randomForestModel.score(X_test, y_test)\n",
    "print('Test accuracy:', random_forest_accuracy)\n",
    "\n"
   ]
  },
  {
   "cell_type": "code",
   "execution_count": 4,
   "metadata": {},
   "outputs": [
    {
     "name": "stdout",
     "output_type": "stream",
     "text": [
      "Test accuracy: 0.7419907067742725\n"
     ]
    }
   ],
   "source": [
    "#accuracy of 0.74\n",
    "from sklearn.neighbors import KNeighborsClassifier\n",
    "\n",
    "# Create a KNN model\n",
    "model = KNeighborsClassifier()\n",
    "\n",
    "# Train the model\n",
    "model.fit(X_train, y_train)\n",
    "\n",
    "# Evaluate the model on the test set\n",
    "knn_accuracy = model.score(X_test, y_test)\n",
    "print('Test accuracy:', knn_accuracy)"
   ]
  },
  {
   "cell_type": "code",
   "execution_count": 5,
   "metadata": {},
   "outputs": [
    {
     "name": "stdout",
     "output_type": "stream",
     "text": [
      "Test accuracy: 0.7246270481780387\n"
     ]
    }
   ],
   "source": [
    "#accuracy of 0.72\n",
    "from sklearn.linear_model import LogisticRegression\n",
    "\n",
    "# Create a Logistic Regression model\n",
    "model = LogisticRegression(max_iter=2000)\n",
    "\n",
    "# Train the model\n",
    "model.fit(X_train, y_train)\n",
    "\n",
    "# Evaluate the model on the test set\n",
    "logistic_regression_accuracy = model.score(X_test, y_test)\n",
    "print('Test accuracy:', logistic_regression_accuracy)"
   ]
  },
  {
   "cell_type": "code",
   "execution_count": 6,
   "metadata": {},
   "outputs": [
    {
     "name": "stdout",
     "output_type": "stream",
     "text": [
      "Test accuracy: 0.7089752995842504\n"
     ]
    }
   ],
   "source": [
    "#accuracy of 0.72\n",
    "from sklearn.tree import DecisionTreeClassifier\n",
    "\n",
    "# Create a Decision Tree model\n",
    "model = DecisionTreeClassifier()\n",
    "\n",
    "# Train the model\n",
    "model.fit(X_train, y_train)\n",
    "\n",
    "# Evaluate the model on the test set\n",
    "decision_tree_accuracy = model.score(X_test, y_test)\n",
    "print('Test accuracy:', decision_tree_accuracy)\n"
   ]
  },
  {
   "cell_type": "code",
   "execution_count": 7,
   "metadata": {},
   "outputs": [
    {
     "name": "stdout",
     "output_type": "stream",
     "text": [
      "Test accuracy: 0.7901687454145268\n"
     ]
    }
   ],
   "source": [
    "#accuracy of 0.79\n",
    "from sklearn.svm import SVC\n",
    "\n",
    "# Create an SVM model\n",
    "model = SVC()\n",
    "\n",
    "# Train the model\n",
    "model.fit(X_train, y_train)\n",
    "\n",
    "# Evaluate the model on the test set\n",
    "svc_accuracy = model.score(X_test, y_test)\n",
    "print('Test accuracy:', svc_accuracy)\n"
   ]
  },
  {
   "cell_type": "code",
   "execution_count": 8,
   "metadata": {},
   "outputs": [
    {
     "data": {
      "image/png": "[encoded data removed]",
      "text/plain": [
       "<Figure size 640x480 with 1 Axes>"
      ]
     },
     "metadata": {},
     "output_type": "display_data"
    }
   ],
   "source": [
    "# Plot the accuracies\n",
    "x = ['Random Forest', 'KNN', 'Logistic', 'Decision Tree', 'SVM']\n",
    "y = [random_forest_accuracy, knn_accuracy, \n",
    "     logistic_regression_accuracy, decision_tree_accuracy, svc_accuracy]\n",
    "\n",
    "plt.bar(x, y)\n",
    "plt.xlabel('Model')\n",
    "plt.ylabel('Accuracy')\n",
    "plt.show()"
   ]
  },
  {
   "cell_type": "code",
   "execution_count": 9,
   "metadata": {},
   "outputs": [],
   "source": [
    "class KeyLogger:\n",
    "    def __init__(self):\n",
    "        self.enterPressed = False\n",
    "        self.eventList = []\n",
    "        self.isCaps = False\n",
    "        self.userName = getUserName()\n",
    "        self.idOfWord = 1\n",
    "        #self.message = \"\"\n",
    "\n",
    "    def keyDownEvent(self, event):\n",
    "        if event.KeyID == 20 and self.isCaps == False:\n",
    "            self.isCaps = True\n",
    "        elif event.KeyID == 20 and self.isCaps == True:\n",
    "            self.isCaps = False     \n",
    "        if event.KeyID>= 48 and event.KeyID<=57:\n",
    "            event.Ascii = event.KeyID\n",
    "        if self.isCaps == True and event.Ascii>=97 and event.Ascii<=122:\n",
    "            event.Ascii = event.KeyID\n",
    "        self.storeEvent(\"Down\", event) \n",
    "        return True\n",
    "    \n",
    "\n",
    "    #Currently not used\n",
    "    def mainLoop(self):\n",
    "        while not self.enterPressed:\n",
    "            pythoncom.PumpWaitingMessages()\n",
    "\n",
    "            \n",
    "    def keyUpEvent(self, event):\n",
    "        if event.KeyID>= 48 and event.KeyID<=57:\n",
    "            event.Ascii = event.KeyID\n",
    "        if self.isCaps == True and event.Ascii>=97 and event.Ascii<=122:\n",
    "            event.Ascii = event.KeyID\n",
    "        print(chr(event.Ascii),end='')\n",
    "        self.storeEvent(\"Up\", event)\n",
    "        return True\n",
    "\n",
    "\n",
    "    def storeEvent(self, activity, event):\n",
    "        keystrokeTime = int(event.Time)\n",
    "\n",
    "        # Makes sure the enter key up and down have the same idOfWord\n",
    "        if event.Ascii == 13 and activity == \"Up\":\n",
    "            self.eventList.append ((self.userName, self.idOfWord - 1, event.Ascii, event.Key, activity, int(keystrokeTime)))\n",
    "        else:\n",
    "            self.eventList.append ((self.userName, self.idOfWord, event.Ascii, event.Key, activity, int(keystrokeTime)))\n",
    "\n",
    "       \n",
    "        \n",
    "        \n",
    "        # Chosen to use Escape key (ESC) due to input using a similar method\n",
    "        # Enter Key - KeyCode: 13 Ascii: 13 ScanCode: 28 - ESC = 27 @ Ascii\n",
    "        # Activity condition had to be added because the userRecordData function was being called twice because of the keyUpEvent and keyDownEvent\n",
    "        # if event.Ascii == 13 and activity == \"Down\": \n",
    "        #     self.enterPressed = True\n",
    "        #     print(\"Enter Pressed\")\n",
    "        #     userRecordData(self.eventList)\n",
    "\n",
    "def userRecordData(eventList):\n",
    "    \n",
    "    \n",
    "    \n",
    "    # Delete the first element of the list because the first element is always a keyUpEvent for the Enter key\n",
    "    if (eventList[0][3] == 'Return'):\n",
    "        eventList.pop(0)  \n",
    "    \n",
    "    \n",
    "    \n",
    "    df = pd.DataFrame(eventList, columns = ['user', 'idOfWord', 'ascii', 'key', 'keyEvent', 'Time'])\n",
    "    df = df[df.key != 'R']\n",
    "    df2 = pd.DataFrame(columns=['subject','idOfWord','key','H','UD','DD'])\n",
    "    print(df)\n",
    "    for i in range(0, len(df), 2):\n",
    "        finalData = {}\n",
    "\n",
    "        finalData['subject'] = df.iloc[i].user\n",
    "        finalData['key'] = df.iloc[i].key\n",
    "        finalData['H'] = (int(df.iloc[i+1].Time) - int(df.iloc[i].Time))/1000\n",
    "        finalData['idOfWord'] = df.iloc[i].idOfWord\n",
    "        \n",
    "        if(df.iloc[i].key != \"Return\"):\n",
    "            finalData['UD'] = (int(df.iloc[i+2].Time) - int(df.iloc[i+1].Time))/1000\n",
    "            finalData['DD'] = (int(df.iloc[i+2].Time) - int(df.iloc[i].Time))/1000\n",
    "        \n",
    "        df2 = pd.concat([df2, pd.DataFrame(finalData, index=[0])], ignore_index=True)\n",
    "\n",
    "    df3 = pd.DataFrame(columns=['subject','H.period','DD.period.t','UD.period.t','H.t', 'DD.t.i', 'UD.t.i', 'H.i','DD.i.e','UD.i.e','H.e','DD.e.five', 'UD.e.five', 'H.five', 'DD.five.Shift.r', 'UD.five.Shift.r', 'H.Shift.r', 'DD.Shift.r.o', 'UD.Shift.r.o' , 'H.o', 'DD.o.a', 'UD.o.a', 'H.a', 'DD.a.n', 'UD.a.n', 'H.n', 'DD.n.l', 'UD.n.l', 'H.l', 'DD.l.Return', 'UD.l.Return', 'H.Return'])\n",
    "\n",
    "    finalData = {}\n",
    "    finalData['subject'] = df2.iloc[0].subject\n",
    "\n",
    "    finalData['H.period'] = df2.iloc[0].H\n",
    "    finalData['DD.period.t'] = df2.iloc[0].DD\n",
    "    finalData['UD.period.t'] = df2.iloc[0].UD\n",
    "    finalData['H.t'] = df2.iloc[1].H\n",
    "    finalData['DD.t.i'] = df2.iloc[1].DD\n",
    "    finalData['UD.t.i'] = df2.iloc[1].UD\n",
    "    finalData['H.i'] = df2.iloc[2].H\n",
    "    finalData['DD.i.e'] = df2.iloc[2].DD\n",
    "    finalData['UD.i.e'] = df2.iloc[2].UD\n",
    "    finalData['H.e'] = df2.iloc[3].H\n",
    "    finalData['DD.e.five'] = df2.iloc[3].DD\n",
    "    finalData['UD.e.five'] = df2.iloc[3].UD\n",
    "    finalData['H.five'] = df2.iloc[4].H\n",
    "    finalData['DD.five.Shift.r'] = df2.iloc[4].DD\n",
    "    finalData['UD.five.Shift.r'] = df2.iloc[4].UD\n",
    "    finalData['H.Shift.r'] = df2.iloc[5].H\n",
    "    finalData['DD.Shift.r.o'] =    df2.iloc[5].DD\n",
    "    finalData['UD.Shift.r.o'] = df2.iloc[5].UD\n",
    "    finalData['H.o'] = df2.iloc[6].H\n",
    "    finalData['DD.o.a'] = df2.iloc[6].DD\n",
    "    finalData['UD.o.a'] = df2.iloc[6].UD\n",
    "    finalData['H.a'] = df2.iloc[7].H\n",
    "    finalData['DD.a.n'] = df2.iloc[7].DD\n",
    "    finalData['UD.a.n'] = df2.iloc[7].UD\n",
    "    finalData['H.n'] = df2.iloc[8].H\n",
    "    finalData['DD.n.l'] = df2.iloc[8].DD\n",
    "    finalData['UD.n.l'] =   df2.iloc[8].UD\n",
    "    finalData['H.l'] = df2.iloc[9].H\n",
    "    finalData['DD.l.Return'] = df2.iloc[9].DD\n",
    "    finalData['UD.l.Return'] = df2.iloc[9].UD\n",
    "    finalData['H.Return'] = df2.iloc[10].H\n",
    "    df3 = pd.concat([df3, pd.DataFrame(finalData, index=[0])], ignore_index=True)\n",
    "\n",
    "    prediction = randomForestModel.predict(df3.drop(['subject'], axis=1))\n",
    "    print(prediction[0])\n",
    "    print(df3['subject'].iloc[0])\n",
    "    if prediction[0] == df3['subject'].iloc[0]:\n",
    "        return True\n",
    "    else:\n",
    "        return False\n",
    "\n",
    "#Not needed currently\n",
    "def getKeyStroke():\n",
    "    \n",
    "    keyLogger = KeyLogger()\n",
    "    hookManager = pyHook.HookManager()\n",
    "    hookManager.KeyDown = keyLogger.keyDownEvent\n",
    "    hookManager.KeyUp = keyLogger.keyUpEvent\n",
    "    hookManager.HookKeyboard()\n",
    "\n",
    "    keyLogger.mainLoop()\n",
    "    # Unhooks the keyboard, no more data recorded, returns to menu\n",
    "    hookManager.UnhookKeyboard()\n",
    "\n",
    "\n",
    "def getUserName():\n",
    "        userName = input(\"Enter your name: \")\n",
    "        return userName"
   ]
  },
  {
   "cell_type": "code",
   "execution_count": 10,
   "metadata": {},
   "outputs": [
    {
     "name": "stdout",
     "output_type": "stream",
     "text": [
      ".tie5\u0000roanl{'Input1': '.tie5Roanl'}\n",
      "     user  idOfWord  ascii         key keyEvent        Time\n",
      "0   klara         1     46  Oem_Period     Down  1654558218\n",
      "1   klara         1     46  Oem_Period       Up  1654558281\n",
      "2   klara         1    116           T     Down  1654558437\n",
      "3   klara         1    116           T       Up  1654558546\n",
      "4   klara         1    105           I     Down  1654558578\n",
      "5   klara         1    105           I       Up  1654558656\n",
      "6   klara         1    101           E     Down  1654558718\n",
      "7   klara         1    101           E       Up  1654558828\n",
      "8   klara         1     53           5     Down  1654558984\n",
      "9   klara         1     53           5       Up  1654559078\n",
      "10  klara         1      0      Lshift     Down  1654559203\n",
      "12  klara         1      0      Lshift       Up  1654559406\n",
      "14  klara         1    111           O     Down  1654559546\n",
      "15  klara         1    111           O       Up  1654559656\n",
      "16  klara         1     97           A     Down  1654559734\n",
      "17  klara         1     97           A       Up  1654559843\n",
      "18  klara         1    110           N     Down  1654559843\n",
      "19  klara         1    110           N       Up  1654559937\n",
      "20  klara         1    108           L     Down  1654560031\n",
      "21  klara         1    108           L       Up  1654560140\n",
      "22  klara         1     13      Return     Down  1654560359\n",
      "23  klara         0     13      Return       Up  1654560453\n",
      "s055\n",
      "klara\n",
      "S\u0000\u0000"
     ]
    }
   ],
   "source": [
    "sg.theme('DarkAmber')   # Add a touch of color\n",
    "\n",
    "keyLogger = KeyLogger()\n",
    "hookManager = pyHook.HookManager()\n",
    "hookManager.KeyDown = keyLogger.keyDownEvent\n",
    "hookManager.KeyUp = keyLogger.keyUpEvent\n",
    "hookManager.HookKeyboard()\n",
    "\n",
    "# All the stuff inside your window.\n",
    "layout = [  [sg.Text('Collecting KeyStroke Data for User: ' + keyLogger.userName)],\n",
    "            [sg.Text('Enter password (.tie5Roanl)'), sg.InputText( key='Input1')],\n",
    "            [sg.Button('Login'), sg.Button('Cancel')] ]\n",
    "\n",
    "# Create the Window\n",
    "window = sg.Window('Window Title', layout, finalize=True)\n",
    "\n",
    "# Bind the Enter key to the input field -> Used to clear the input field when enter is pressed\n",
    "# For this to work, when creating the window, finalize must be set to True\n",
    "window['Input1'].bind('<Return>', '_Enter')\n",
    "\n",
    "# Create the keylogger and hook it to the keyboard\n",
    "# Event Loop to process \"events\" and get the \"values\" of the inputs\n",
    "while True:\n",
    "    event, values = window.read()\n",
    "    if event == sg.WIN_CLOSED or event == 'Cancel': # if user closes window or clicks cancel\n",
    "        break\n",
    "    elif event == 'Input1' + '_Enter':\n",
    "        window['Input1'].update('')\n",
    "    elif event == 'Login': # This implementation prevents the same data from being recorded twice\n",
    "        isAuthenticated = userRecordData(keyLogger.eventList)\n",
    "        if(isAuthenticated):\n",
    "            sg.popup('Welcome!')\n",
    "        else:\n",
    "            sg.popup('Invalid username or password.')\n",
    "        break\n",
    "    \n",
    "    #keyLogger.mainLoop()\n",
    "    pythoncom.PumpWaitingMessages() # This is needed for the keylogger to work, and works without the mainLoop function\n",
    "\n",
    "    #print('You entered ', values[0])\n",
    "    print(values)\n",
    "\n",
    "# Unhooks the keyboard, no more data recorded, returns to menu\n",
    "hookManager.UnhookKeyboard()\n",
    "window.close()"
   ]
  },
  {
   "cell_type": "code",
   "execution_count": 11,
   "metadata": {},
   "outputs": [],
   "source": [
    "#accuracy of 0.72\n",
    "# from sklearn.linear_model import LogisticRegression\n",
    "\n",
    "# # Create a Logistic Regression model\n",
    "# model = LogisticRegression(max_iter=2000)\n",
    "\n",
    "# # Train the model\n",
    "# model.fit(X_train, y_train)\n",
    "\n",
    "# # Evaluate the model on the test set\n",
    "# accuracy = model.score(X_test, y_test)\n",
    "# print('Test accuracy:', accuracy)\n"
   ]
  },
  {
   "cell_type": "code",
   "execution_count": 12,
   "metadata": {},
   "outputs": [],
   "source": [
    "#accuracy of 0.84\n",
    "# from sklearn.preprocessing import StandardScaler\n",
    "\n",
    "# # Scale the input features\n",
    "# scaler = StandardScaler()\n",
    "# X_train_scaled = scaler.fit_transform(X_train)\n",
    "# X_test_scaled = scaler.transform(X_test)\n",
    "\n",
    "# # Create a Logistic Regression model and train it on the scaled data\n",
    "# model = LogisticRegression(solver='sag', max_iter=5000)\n",
    "# model.fit(X_train_scaled, y_train)\n",
    "\n",
    "# # Evaluate the model on the scaled test set\n",
    "# accuracy = model.score(X_test_scaled, y_test)\n",
    "# print('Test accuracy:', accuracy)\n"
   ]
  },
  {
   "cell_type": "code",
   "execution_count": 13,
   "metadata": {},
   "outputs": [],
   "source": [
    "#accuracy of 0.72\n",
    "# from sklearn.tree import DecisionTreeClassifier\n",
    "\n",
    "# # Create a Decision Tree model\n",
    "# model = DecisionTreeClassifier()\n",
    "\n",
    "# # Train the model\n",
    "# model.fit(X_train, y_train)\n",
    "\n",
    "# # Evaluate the model on the test set\n",
    "# accuracy = model.score(X_test, y_test)\n",
    "# print('Test accuracy:', accuracy)\n"
   ]
  },
  {
   "cell_type": "code",
   "execution_count": 14,
   "metadata": {},
   "outputs": [],
   "source": [
    "#accuracy of 0.79\n",
    "# from sklearn.svm import SVC\n",
    "\n",
    "# # Create an SVM model\n",
    "# model = SVC()\n",
    "\n",
    "# # Train the model\n",
    "# model.fit(X_train, y_train)\n",
    "\n",
    "# # Evaluate the model on the test set\n",
    "# accuracy = model.score(X_test, y_test)\n",
    "# print('Test accuracy:', accuracy)\n"
   ]
  },
  {
   "cell_type": "code",
   "execution_count": 15,
   "metadata": {},
   "outputs": [],
   "source": [
    "#accuracy of 0.74\n",
    "# from sklearn.neighbors import KNeighborsClassifier\n",
    "\n",
    "# # Create a KNN model\n",
    "# model = KNeighborsClassifier()\n",
    "\n",
    "# # Train the model\n",
    "# model.fit(X_train, y_train)\n",
    "\n",
    "# # Evaluate the model on the test set\n",
    "# accuracy = model.score(X_test, y_test)\n",
    "# print('Test accuracy:', accuracy)"
   ]
  }
 ],
 "metadata": {
  "kernelspec": {
   "display_name": "env",
   "language": "python",
   "name": "python3"
  },
  "language_info": {
   "codemirror_mode": {
    "name": "ipython",
    "version": 3
   },
   "file_extension": ".py",
   "mimetype": "text/x-python",
   "name": "python",
   "nbconvert_exporter": "python",
   "pygments_lexer": "ipython3",
   "version": "3.11.2"
  },
  "orig_nbformat": 4
 },
 "nbformat": 4,
 "nbformat_minor": 2
}
